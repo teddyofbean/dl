{
  "nbformat": 4,
  "nbformat_minor": 0,
  "metadata": {
    "colab": {
      "provenance": []
    },
    "kernelspec": {
      "name": "python3",
      "display_name": "Python 3"
    },
    "language_info": {
      "name": "python"
    }
  },
  "cells": [
    {
      "cell_type": "code",
      "execution_count": 4,
      "metadata": {
        "id": "zCnwsOA1BPJA"
      },
      "outputs": [],
      "source": [
        "import tensorflow as tf\n",
        "import numpy as np\n",
        "from tensorflow import keras\n",
        "from keras import layers\n",
        "from PIL import Image"
      ]
    },
    {
      "cell_type": "code",
      "source": [
        "(train_data, train_labels), (test_data, test_labels) = keras.datasets.cifar10.load_data()"
      ],
      "metadata": {
        "colab": {
          "base_uri": "https://localhost:8080/"
        },
        "id": "mmtItjgCBkvP",
        "outputId": "740dc483-542d-4e23-ceb3-4338b33cd0c7"
      },
      "execution_count": 5,
      "outputs": [
        {
          "output_type": "stream",
          "name": "stdout",
          "text": [
            "Downloading data from https://www.cs.toronto.edu/~kriz/cifar-10-python.tar.gz\n",
            "170498071/170498071 [==============================] - 2s 0us/step\n"
          ]
        }
      ]
    },
    {
      "cell_type": "code",
      "source": [
        "train_data = train_data.astype('float32') / 255.0\n",
        "test_data = test_data.astype('float32') / 255.0\n",
        "\n",
        "train_labels = keras.utils.to_categorical(train_labels, 10)\n",
        "test_labels = keras.utils.to_categorical(test_labels, 10)"
      ],
      "metadata": {
        "id": "oS64qCQdCL8S"
      },
      "execution_count": 6,
      "outputs": []
    },
    {
      "cell_type": "code",
      "source": [
        "model = keras.Sequential([\n",
        "    keras.Input(shape=(32, 32, 3), ),\n",
        "    layers.Conv2D(32, kernel_size=(3, 3), activation='relu'),\n",
        "    layers.MaxPooling2D(pool_size=(2, 2)),\n",
        "    layers.Conv2D(64, kernel_size=(3, 3), activation='relu'),\n",
        "    layers.MaxPooling2D(pool_size=(2, 2)),\n",
        "    layers.Flatten(),\n",
        "    layers.Dropout(0.5),\n",
        "    layers.Dense(10, activation='softmax')\n",
        "])"
      ],
      "metadata": {
        "id": "-hRIyKpwDVw2"
      },
      "execution_count": 9,
      "outputs": []
    },
    {
      "cell_type": "code",
      "source": [
        "model.compile(optimizer='adam', loss='categorical_crossentropy', metrics=['accuracy'])"
      ],
      "metadata": {
        "id": "4JPvpLkwJEB4"
      },
      "execution_count": 10,
      "outputs": []
    },
    {
      "cell_type": "code",
      "source": [
        "model.fit(train_data, train_labels, batch_size=64, epochs=10, validation_data = (test_data, test_labels))\n",
        "\n",
        "model.save('cifar10_model.h5')"
      ],
      "metadata": {
        "colab": {
          "base_uri": "https://localhost:8080/"
        },
        "id": "DnnLsWBuJfI3",
        "outputId": "c045210d-65f8-495a-997a-cc251ac81c11"
      },
      "execution_count": 12,
      "outputs": [
        {
          "output_type": "stream",
          "name": "stdout",
          "text": [
            "Epoch 1/10\n",
            "782/782 [==============================] - 66s 85ms/step - loss: 0.9099 - accuracy: 0.6854 - val_loss: 0.8805 - val_accuracy: 0.6987\n",
            "Epoch 2/10\n",
            "782/782 [==============================] - 64s 81ms/step - loss: 0.8981 - accuracy: 0.6902 - val_loss: 0.8687 - val_accuracy: 0.6987\n",
            "Epoch 3/10\n",
            "782/782 [==============================] - 66s 84ms/step - loss: 0.8891 - accuracy: 0.6918 - val_loss: 0.8484 - val_accuracy: 0.7119\n",
            "Epoch 4/10\n",
            "782/782 [==============================] - 64s 81ms/step - loss: 0.8764 - accuracy: 0.6974 - val_loss: 0.8399 - val_accuracy: 0.7142\n",
            "Epoch 5/10\n",
            "782/782 [==============================] - 64s 81ms/step - loss: 0.8620 - accuracy: 0.7006 - val_loss: 0.8624 - val_accuracy: 0.7031\n",
            "Epoch 6/10\n",
            "782/782 [==============================] - 64s 82ms/step - loss: 0.8472 - accuracy: 0.7075 - val_loss: 0.8360 - val_accuracy: 0.7114\n",
            "Epoch 7/10\n",
            "782/782 [==============================] - 68s 86ms/step - loss: 0.8389 - accuracy: 0.7102 - val_loss: 0.8051 - val_accuracy: 0.7286\n",
            "Epoch 8/10\n",
            "782/782 [==============================] - 64s 82ms/step - loss: 0.8323 - accuracy: 0.7127 - val_loss: 0.8118 - val_accuracy: 0.7217\n",
            "Epoch 9/10\n",
            "782/782 [==============================] - 66s 84ms/step - loss: 0.8202 - accuracy: 0.7162 - val_loss: 0.8107 - val_accuracy: 0.7246\n",
            "Epoch 10/10\n",
            "782/782 [==============================] - 64s 81ms/step - loss: 0.8141 - accuracy: 0.7147 - val_loss: 0.8177 - val_accuracy: 0.7234\n"
          ]
        }
      ]
    },
    {
      "cell_type": "code",
      "source": [
        "model = keras.models.load_model('cifar10_model.h5')"
      ],
      "metadata": {
        "id": "xOIBZE3XKBhO"
      },
      "execution_count": 13,
      "outputs": []
    },
    {
      "cell_type": "code",
      "source": [
        "classes = ['airplane', 'automobile', 'bird', 'cat', 'deer', 'dog', 'frog', 'horse', 'ship', 'truck']"
      ],
      "metadata": {
        "id": "Pfw0LS4JThqL"
      },
      "execution_count": 18,
      "outputs": []
    },
    {
      "cell_type": "code",
      "source": [
        "img = Image.open('./dog.jpg')\n",
        "img = img.resize((32,32))\n",
        "img_array = np.array(img)\n",
        "img_array = img_array.astype('float32') / 255.0\n",
        "img_array = np.expand_dims(img_array, axis = 0)"
      ],
      "metadata": {
        "id": "xffPquz3Pp7r"
      },
      "execution_count": 19,
      "outputs": []
    },
    {
      "cell_type": "code",
      "source": [
        "pred = model.predict(img_array)\n",
        "class_label = np.argmax(pred)\n",
        "print(\"Prediction:\", classes[class_label])"
      ],
      "metadata": {
        "colab": {
          "base_uri": "https://localhost:8080/"
        },
        "id": "soDJQF_eQIUH",
        "outputId": "850b6f0a-261c-4d5f-ce7f-775a28dd4ffa"
      },
      "execution_count": 20,
      "outputs": [
        {
          "output_type": "stream",
          "name": "stdout",
          "text": [
            "1/1 [==============================] - 0s 22ms/step\n",
            "Prediction: dog\n"
          ]
        }
      ]
    },
    {
      "cell_type": "code",
      "source": [
        "img = Image.open('./cat.jpg')\n",
        "img = img.resize((32,32))\n",
        "img_array = np.array(img)\n",
        "img_array = img_array.astype('float32') / 255.0\n",
        "img_array = np.expand_dims(img_array, axis = 0)"
      ],
      "metadata": {
        "id": "uknA5kN7QWBN"
      },
      "execution_count": 21,
      "outputs": []
    },
    {
      "cell_type": "code",
      "source": [
        "pred = model.predict(img_array)\n",
        "class_label = np.argmax(pred)\n",
        "print(\"Prediction:\", classes[class_label])"
      ],
      "metadata": {
        "colab": {
          "base_uri": "https://localhost:8080/"
        },
        "id": "ZFYkBczSUCOV",
        "outputId": "9fc60860-08bf-4905-9226-5329484e4dff"
      },
      "execution_count": 22,
      "outputs": [
        {
          "output_type": "stream",
          "name": "stdout",
          "text": [
            "1/1 [==============================] - 0s 21ms/step\n",
            "Prediction: cat\n"
          ]
        }
      ]
    },
    {
      "cell_type": "code",
      "source": [],
      "metadata": {
        "id": "0URf8im1UG3C"
      },
      "execution_count": null,
      "outputs": []
    }
  ]
}